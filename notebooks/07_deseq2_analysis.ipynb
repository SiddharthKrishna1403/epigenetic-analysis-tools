{
 "cells": [
  {
   "cell_type": "markdown",
   "metadata": {},
   "source": "# DESeq2 Analysis\n\n## 1. Normalization Understanding\n- Size factor calculation\n- Count transformations\n- Batch effect handling\n\n## 2. Statistical Analysis\n- Dispersion estimation\n- P-value distributions\n- Multiple testing correction\n\n## 3. Results Interpretation\n- Log2 fold change meaning\n- P-value interpretation\n- MA and volcano plot patterns"
  }
 ],
 "metadata": {
  "kernelspec": {
   "display_name": "Python 3",
   "language": "python",
   "name": "python3"
  }
 },
 "nbformat": 4,
 "nbformat_minor": 4
}